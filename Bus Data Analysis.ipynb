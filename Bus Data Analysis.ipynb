{
 "cells": [
  {
   "cell_type": "code",
   "execution_count": 225,
   "id": "9eab1417-6411-4d75-8789-2a164b3b2cee",
   "metadata": {},
   "outputs": [],
   "source": [
    "import pandas as pd\n",
    "import numpy as np\n",
    "import matplotlib.pyplot as plt\n",
    "import datetime as date\n",
    "import dataquality as dq #This is library with methods I wrote for basic data quality checks. \n",
    "                        #It includes checking for nulls, duplicates, as well as the shape of the data (rows and columns),\n",
    "                        #And high-level summary statistics (avg, stdev, IQR, etc)\n",
    "                        #I have included this .py file in my email submission so that you can run this library."
   ]
  },
  {
   "cell_type": "code",
   "execution_count": 11,
   "id": "befe21fe-6146-4325-9047-873a17fe2342",
   "metadata": {},
   "outputs": [
    {
     "data": {
      "text/html": [
       "<div>\n",
       "<style scoped>\n",
       "    .dataframe tbody tr th:only-of-type {\n",
       "        vertical-align: middle;\n",
       "    }\n",
       "\n",
       "    .dataframe tbody tr th {\n",
       "        vertical-align: top;\n",
       "    }\n",
       "\n",
       "    .dataframe thead th {\n",
       "        text-align: right;\n",
       "    }\n",
       "</style>\n",
       "<table border=\"1\" class=\"dataframe\">\n",
       "  <thead>\n",
       "    <tr style=\"text-align: right;\">\n",
       "      <th></th>\n",
       "      <th>route_id</th>\n",
       "      <th>date</th>\n",
       "      <th>riders</th>\n",
       "      <th>is_fare_free</th>\n",
       "    </tr>\n",
       "  </thead>\n",
       "  <tbody>\n",
       "    <tr>\n",
       "      <th>0</th>\n",
       "      <td>G87</td>\n",
       "      <td>2022-06-01</td>\n",
       "      <td>19716</td>\n",
       "      <td>False</td>\n",
       "    </tr>\n",
       "    <tr>\n",
       "      <th>1</th>\n",
       "      <td>G87</td>\n",
       "      <td>2022-06-02</td>\n",
       "      <td>18907</td>\n",
       "      <td>False</td>\n",
       "    </tr>\n",
       "    <tr>\n",
       "      <th>2</th>\n",
       "      <td>G87</td>\n",
       "      <td>2022-06-03</td>\n",
       "      <td>22091</td>\n",
       "      <td>False</td>\n",
       "    </tr>\n",
       "    <tr>\n",
       "      <th>3</th>\n",
       "      <td>G87</td>\n",
       "      <td>2022-06-04</td>\n",
       "      <td>12488</td>\n",
       "      <td>False</td>\n",
       "    </tr>\n",
       "    <tr>\n",
       "      <th>4</th>\n",
       "      <td>G87</td>\n",
       "      <td>2022-06-05</td>\n",
       "      <td>10407</td>\n",
       "      <td>False</td>\n",
       "    </tr>\n",
       "  </tbody>\n",
       "</table>\n",
       "</div>"
      ],
      "text/plain": [
       "  route_id        date  riders  is_fare_free\n",
       "0      G87  2022-06-01   19716         False\n",
       "1      G87  2022-06-02   18907         False\n",
       "2      G87  2022-06-03   22091         False\n",
       "3      G87  2022-06-04   12488         False\n",
       "4      G87  2022-06-05   10407         False"
      ]
     },
     "execution_count": 11,
     "metadata": {},
     "output_type": "execute_result"
    }
   ],
   "source": [
    "# Create dataframe and import 'total ridership' table\n",
    "total_ridership = pd.read_csv(\"total-ridership.csv\")\n",
    "total_ridership.head()"
   ]
  },
  {
   "cell_type": "code",
   "execution_count": 9,
   "id": "393de866-a3a6-4831-9483-2565fd7762fa",
   "metadata": {},
   "outputs": [
    {
     "data": {
      "text/markdown": [
       "### Top 5 Rows\n",
       "\n"
      ],
      "text/plain": [
       "<IPython.core.display.Markdown object>"
      ]
     },
     "metadata": {},
     "output_type": "display_data"
    },
    {
     "data": {
      "text/html": [
       "<div>\n",
       "<style scoped>\n",
       "    .dataframe tbody tr th:only-of-type {\n",
       "        vertical-align: middle;\n",
       "    }\n",
       "\n",
       "    .dataframe tbody tr th {\n",
       "        vertical-align: top;\n",
       "    }\n",
       "\n",
       "    .dataframe thead th {\n",
       "        text-align: right;\n",
       "    }\n",
       "</style>\n",
       "<table border=\"1\" class=\"dataframe\">\n",
       "  <thead>\n",
       "    <tr style=\"text-align: right;\">\n",
       "      <th></th>\n",
       "      <th>route_id</th>\n",
       "      <th>date</th>\n",
       "      <th>riders</th>\n",
       "      <th>is_fare_free</th>\n",
       "    </tr>\n",
       "  </thead>\n",
       "  <tbody>\n",
       "    <tr>\n",
       "      <th>0</th>\n",
       "      <td>G87</td>\n",
       "      <td>2022-06-01</td>\n",
       "      <td>19716</td>\n",
       "      <td>False</td>\n",
       "    </tr>\n",
       "    <tr>\n",
       "      <th>1</th>\n",
       "      <td>G87</td>\n",
       "      <td>2022-06-02</td>\n",
       "      <td>18907</td>\n",
       "      <td>False</td>\n",
       "    </tr>\n",
       "    <tr>\n",
       "      <th>2</th>\n",
       "      <td>G87</td>\n",
       "      <td>2022-06-03</td>\n",
       "      <td>22091</td>\n",
       "      <td>False</td>\n",
       "    </tr>\n",
       "    <tr>\n",
       "      <th>3</th>\n",
       "      <td>G87</td>\n",
       "      <td>2022-06-04</td>\n",
       "      <td>12488</td>\n",
       "      <td>False</td>\n",
       "    </tr>\n",
       "    <tr>\n",
       "      <th>4</th>\n",
       "      <td>G87</td>\n",
       "      <td>2022-06-05</td>\n",
       "      <td>10407</td>\n",
       "      <td>False</td>\n",
       "    </tr>\n",
       "  </tbody>\n",
       "</table>\n",
       "</div>"
      ],
      "text/plain": [
       "  route_id        date  riders  is_fare_free\n",
       "0      G87  2022-06-01   19716         False\n",
       "1      G87  2022-06-02   18907         False\n",
       "2      G87  2022-06-03   22091         False\n",
       "3      G87  2022-06-04   12488         False\n",
       "4      G87  2022-06-05   10407         False"
      ]
     },
     "metadata": {},
     "output_type": "display_data"
    },
    {
     "data": {
      "text/markdown": [
       "### Bottom 5 Rows\n",
       "\n"
      ],
      "text/plain": [
       "<IPython.core.display.Markdown object>"
      ]
     },
     "metadata": {},
     "output_type": "display_data"
    },
    {
     "data": {
      "text/html": [
       "<div>\n",
       "<style scoped>\n",
       "    .dataframe tbody tr th:only-of-type {\n",
       "        vertical-align: middle;\n",
       "    }\n",
       "\n",
       "    .dataframe tbody tr th {\n",
       "        vertical-align: top;\n",
       "    }\n",
       "\n",
       "    .dataframe thead th {\n",
       "        text-align: right;\n",
       "    }\n",
       "</style>\n",
       "<table border=\"1\" class=\"dataframe\">\n",
       "  <thead>\n",
       "    <tr style=\"text-align: right;\">\n",
       "      <th></th>\n",
       "      <th>route_id</th>\n",
       "      <th>date</th>\n",
       "      <th>riders</th>\n",
       "      <th>is_fare_free</th>\n",
       "    </tr>\n",
       "  </thead>\n",
       "  <tbody>\n",
       "    <tr>\n",
       "      <th>129382</th>\n",
       "      <td>C101</td>\n",
       "      <td>2024-05-16</td>\n",
       "      <td>1553</td>\n",
       "      <td>False</td>\n",
       "    </tr>\n",
       "    <tr>\n",
       "      <th>129383</th>\n",
       "      <td>C101</td>\n",
       "      <td>2024-05-17</td>\n",
       "      <td>1405</td>\n",
       "      <td>False</td>\n",
       "    </tr>\n",
       "    <tr>\n",
       "      <th>129384</th>\n",
       "      <td>C101</td>\n",
       "      <td>2024-05-20</td>\n",
       "      <td>1316</td>\n",
       "      <td>False</td>\n",
       "    </tr>\n",
       "    <tr>\n",
       "      <th>129385</th>\n",
       "      <td>C101</td>\n",
       "      <td>2024-05-21</td>\n",
       "      <td>1476</td>\n",
       "      <td>False</td>\n",
       "    </tr>\n",
       "    <tr>\n",
       "      <th>129386</th>\n",
       "      <td>C101</td>\n",
       "      <td>2024-05-22</td>\n",
       "      <td>1550</td>\n",
       "      <td>False</td>\n",
       "    </tr>\n",
       "  </tbody>\n",
       "</table>\n",
       "</div>"
      ],
      "text/plain": [
       "       route_id        date  riders  is_fare_free\n",
       "129382     C101  2024-05-16    1553         False\n",
       "129383     C101  2024-05-17    1405         False\n",
       "129384     C101  2024-05-20    1316         False\n",
       "129385     C101  2024-05-21    1476         False\n",
       "129386     C101  2024-05-22    1550         False"
      ]
     },
     "metadata": {},
     "output_type": "display_data"
    },
    {
     "data": {
      "text/markdown": [
       "### Info\n",
       "\n"
      ],
      "text/plain": [
       "<IPython.core.display.Markdown object>"
      ]
     },
     "metadata": {},
     "output_type": "display_data"
    },
    {
     "name": "stdout",
     "output_type": "stream",
     "text": [
      "<class 'pandas.core.frame.DataFrame'>\n",
      "RangeIndex: 129387 entries, 0 to 129386\n",
      "Data columns (total 4 columns):\n",
      " #   Column        Non-Null Count   Dtype \n",
      "---  ------        --------------   ----- \n",
      " 0   route_id      129387 non-null  object\n",
      " 1   date          129387 non-null  object\n",
      " 2   riders        129387 non-null  int64 \n",
      " 3   is_fare_free  129387 non-null  bool  \n",
      "dtypes: bool(1), int64(1), object(2)\n",
      "memory usage: 3.1+ MB\n"
     ]
    },
    {
     "data": {
      "text/plain": [
       "None"
      ]
     },
     "metadata": {},
     "output_type": "display_data"
    },
    {
     "data": {
      "text/markdown": [
       "### Duplicates\n",
       "\n"
      ],
      "text/plain": [
       "<IPython.core.display.Markdown object>"
      ]
     },
     "metadata": {},
     "output_type": "display_data"
    },
    {
     "data": {
      "text/plain": [
       "0"
      ]
     },
     "metadata": {},
     "output_type": "display_data"
    },
    {
     "data": {
      "text/markdown": [
       "### Missing\n",
       "\n"
      ],
      "text/plain": [
       "<IPython.core.display.Markdown object>"
      ]
     },
     "metadata": {},
     "output_type": "display_data"
    },
    {
     "data": {
      "text/plain": [
       "route_id        0\n",
       "date            0\n",
       "riders          0\n",
       "is_fare_free    0\n",
       "dtype: int64"
      ]
     },
     "metadata": {},
     "output_type": "display_data"
    },
    {
     "data": {
      "text/markdown": [
       "### Unique\n",
       "\n"
      ],
      "text/plain": [
       "<IPython.core.display.Markdown object>"
      ]
     },
     "metadata": {},
     "output_type": "display_data"
    },
    {
     "data": {
      "text/plain": [
       "route_id          184\n",
       "date              722\n",
       "riders          24836\n",
       "is_fare_free        2\n",
       "dtype: int64"
      ]
     },
     "metadata": {},
     "output_type": "display_data"
    },
    {
     "data": {
      "text/html": [
       "<div>\n",
       "<style scoped>\n",
       "    .dataframe tbody tr th:only-of-type {\n",
       "        vertical-align: middle;\n",
       "    }\n",
       "\n",
       "    .dataframe tbody tr th {\n",
       "        vertical-align: top;\n",
       "    }\n",
       "\n",
       "    .dataframe thead th {\n",
       "        text-align: right;\n",
       "    }\n",
       "</style>\n",
       "<table border=\"1\" class=\"dataframe\">\n",
       "  <thead>\n",
       "    <tr style=\"text-align: right;\">\n",
       "      <th></th>\n",
       "      <th>riders</th>\n",
       "    </tr>\n",
       "  </thead>\n",
       "  <tbody>\n",
       "    <tr>\n",
       "      <th>count</th>\n",
       "      <td>129387.000000</td>\n",
       "    </tr>\n",
       "    <tr>\n",
       "      <th>mean</th>\n",
       "      <td>8151.737331</td>\n",
       "    </tr>\n",
       "    <tr>\n",
       "      <th>std</th>\n",
       "      <td>6760.400447</td>\n",
       "    </tr>\n",
       "    <tr>\n",
       "      <th>min</th>\n",
       "      <td>2.000000</td>\n",
       "    </tr>\n",
       "    <tr>\n",
       "      <th>25%</th>\n",
       "      <td>3210.000000</td>\n",
       "    </tr>\n",
       "    <tr>\n",
       "      <th>50%</th>\n",
       "      <td>6704.000000</td>\n",
       "    </tr>\n",
       "    <tr>\n",
       "      <th>75%</th>\n",
       "      <td>11099.500000</td>\n",
       "    </tr>\n",
       "    <tr>\n",
       "      <th>max</th>\n",
       "      <td>52783.000000</td>\n",
       "    </tr>\n",
       "  </tbody>\n",
       "</table>\n",
       "</div>"
      ],
      "text/plain": [
       "              riders\n",
       "count  129387.000000\n",
       "mean     8151.737331\n",
       "std      6760.400447\n",
       "min         2.000000\n",
       "25%      3210.000000\n",
       "50%      6704.000000\n",
       "75%     11099.500000\n",
       "max     52783.000000"
      ]
     },
     "metadata": {},
     "output_type": "display_data"
    },
    {
     "data": {
      "text/markdown": [
       "### Charts\n",
       "\n"
      ],
      "text/plain": [
       "<IPython.core.display.Markdown object>"
      ]
     },
     "metadata": {},
     "output_type": "display_data"
    },
    {
     "data": {
      "text/html": [
       "<div>\n",
       "<style scoped>\n",
       "    .dataframe tbody tr th:only-of-type {\n",
       "        vertical-align: middle;\n",
       "    }\n",
       "\n",
       "    .dataframe tbody tr th {\n",
       "        vertical-align: top;\n",
       "    }\n",
       "\n",
       "    .dataframe thead th {\n",
       "        text-align: right;\n",
       "    }\n",
       "</style>\n",
       "<table border=\"1\" class=\"dataframe\">\n",
       "  <thead>\n",
       "    <tr style=\"text-align: right;\">\n",
       "      <th></th>\n",
       "      <th>index</th>\n",
       "      <th>0</th>\n",
       "    </tr>\n",
       "  </thead>\n",
       "  <tbody>\n",
       "    <tr>\n",
       "      <th>0</th>\n",
       "      <td>route_id</td>\n",
       "      <td>184</td>\n",
       "    </tr>\n",
       "    <tr>\n",
       "      <th>1</th>\n",
       "      <td>date</td>\n",
       "      <td>722</td>\n",
       "    </tr>\n",
       "    <tr>\n",
       "      <th>2</th>\n",
       "      <td>riders</td>\n",
       "      <td>24836</td>\n",
       "    </tr>\n",
       "    <tr>\n",
       "      <th>3</th>\n",
       "      <td>is_fare_free</td>\n",
       "      <td>2</td>\n",
       "    </tr>\n",
       "  </tbody>\n",
       "</table>\n",
       "</div>"
      ],
      "text/plain": [
       "          index      0\n",
       "0      route_id    184\n",
       "1          date    722\n",
       "2        riders  24836\n",
       "3  is_fare_free      2"
      ]
     },
     "metadata": {},
     "output_type": "display_data"
    },
    {
     "data": {
      "image/png": "[encoded data removed]",
      "text/plain": [
       "<Figure size 640x480 with 1 Axes>"
      ]
     },
     "metadata": {},
     "output_type": "display_data"
    }
   ],
   "source": [
    "dq.data_check(total_ridership) #No nulls or duplicates, looking good to proceed"
   ]
  },
  {
   "cell_type": "code",
   "execution_count": 5,
   "id": "51d5ece4-c5d4-4ce9-b3e1-c23cb1690fb9",
   "metadata": {},
   "outputs": [
    {
     "data": {
      "text/html": [
       "<div>\n",
       "<style scoped>\n",
       "    .dataframe tbody tr th:only-of-type {\n",
       "        vertical-align: middle;\n",
       "    }\n",
       "\n",
       "    .dataframe tbody tr th {\n",
       "        vertical-align: top;\n",
       "    }\n",
       "\n",
       "    .dataframe thead th {\n",
       "        text-align: right;\n",
       "    }\n",
       "</style>\n",
       "<table border=\"1\" class=\"dataframe\">\n",
       "  <thead>\n",
       "    <tr style=\"text-align: right;\">\n",
       "      <th></th>\n",
       "      <th>route_id</th>\n",
       "      <th>timestamp</th>\n",
       "      <th>paid_riders</th>\n",
       "    </tr>\n",
       "  </thead>\n",
       "  <tbody>\n",
       "    <tr>\n",
       "      <th>0</th>\n",
       "      <td>G87</td>\n",
       "      <td>2022-06-01 00:00:00</td>\n",
       "      <td>34</td>\n",
       "    </tr>\n",
       "    <tr>\n",
       "      <th>1</th>\n",
       "      <td>G87</td>\n",
       "      <td>2022-06-01 01:00:00</td>\n",
       "      <td>24</td>\n",
       "    </tr>\n",
       "    <tr>\n",
       "      <th>2</th>\n",
       "      <td>G87</td>\n",
       "      <td>2022-06-01 02:00:00</td>\n",
       "      <td>15</td>\n",
       "    </tr>\n",
       "    <tr>\n",
       "      <th>3</th>\n",
       "      <td>G87</td>\n",
       "      <td>2022-06-01 03:00:00</td>\n",
       "      <td>3</td>\n",
       "    </tr>\n",
       "    <tr>\n",
       "      <th>4</th>\n",
       "      <td>G87</td>\n",
       "      <td>2022-06-01 04:00:00</td>\n",
       "      <td>30</td>\n",
       "    </tr>\n",
       "  </tbody>\n",
       "</table>\n",
       "</div>"
      ],
      "text/plain": [
       "  route_id            timestamp  paid_riders\n",
       "0      G87  2022-06-01 00:00:00           34\n",
       "1      G87  2022-06-01 01:00:00           24\n",
       "2      G87  2022-06-01 02:00:00           15\n",
       "3      G87  2022-06-01 03:00:00            3\n",
       "4      G87  2022-06-01 04:00:00           30"
      ]
     },
     "execution_count": 5,
     "metadata": {},
     "output_type": "execute_result"
    }
   ],
   "source": [
    "# Create dataframe and import 'paid ridership' table\n",
    "paid_ridership = pd.read_csv(\"paid-ridership.csv\")\n",
    "paid_ridership.head()"
   ]
  },
  {
   "cell_type": "code",
   "execution_count": 19,
   "id": "7eea3af3-0b75-4e18-aeae-3062a953de5e",
   "metadata": {},
   "outputs": [
    {
     "data": {
      "text/markdown": [
       "### Top 5 Rows\n",
       "\n"
      ],
      "text/plain": [
       "<IPython.core.display.Markdown object>"
      ]
     },
     "metadata": {},
     "output_type": "display_data"
    },
    {
     "data": {
      "text/html": [
       "<div>\n",
       "<style scoped>\n",
       "    .dataframe tbody tr th:only-of-type {\n",
       "        vertical-align: middle;\n",
       "    }\n",
       "\n",
       "    .dataframe tbody tr th {\n",
       "        vertical-align: top;\n",
       "    }\n",
       "\n",
       "    .dataframe thead th {\n",
       "        text-align: right;\n",
       "    }\n",
       "</style>\n",
       "<table border=\"1\" class=\"dataframe\">\n",
       "  <thead>\n",
       "    <tr style=\"text-align: right;\">\n",
       "      <th></th>\n",
       "      <th>route_id</th>\n",
       "      <th>timestamp</th>\n",
       "      <th>paid_riders</th>\n",
       "    </tr>\n",
       "  </thead>\n",
       "  <tbody>\n",
       "    <tr>\n",
       "      <th>0</th>\n",
       "      <td>G87</td>\n",
       "      <td>2022-06-01 00:00:00</td>\n",
       "      <td>34</td>\n",
       "    </tr>\n",
       "    <tr>\n",
       "      <th>1</th>\n",
       "      <td>G87</td>\n",
       "      <td>2022-06-01 01:00:00</td>\n",
       "      <td>24</td>\n",
       "    </tr>\n",
       "    <tr>\n",
       "      <th>2</th>\n",
       "      <td>G87</td>\n",
       "      <td>2022-06-01 02:00:00</td>\n",
       "      <td>15</td>\n",
       "    </tr>\n",
       "    <tr>\n",
       "      <th>3</th>\n",
       "      <td>G87</td>\n",
       "      <td>2022-06-01 03:00:00</td>\n",
       "      <td>3</td>\n",
       "    </tr>\n",
       "    <tr>\n",
       "      <th>4</th>\n",
       "      <td>G87</td>\n",
       "      <td>2022-06-01 04:00:00</td>\n",
       "      <td>30</td>\n",
       "    </tr>\n",
       "  </tbody>\n",
       "</table>\n",
       "</div>"
      ],
      "text/plain": [
       "  route_id            timestamp  paid_riders\n",
       "0      G87  2022-06-01 00:00:00           34\n",
       "1      G87  2022-06-01 01:00:00           24\n",
       "2      G87  2022-06-01 02:00:00           15\n",
       "3      G87  2022-06-01 03:00:00            3\n",
       "4      G87  2022-06-01 04:00:00           30"
      ]
     },
     "metadata": {},
     "output_type": "display_data"
    },
    {
     "data": {
      "text/markdown": [
       "### Bottom 5 Rows\n",
       "\n"
      ],
      "text/plain": [
       "<IPython.core.display.Markdown object>"
      ]
     },
     "metadata": {},
     "output_type": "display_data"
    },
    {
     "data": {
      "text/html": [
       "<div>\n",
       "<style scoped>\n",
       "    .dataframe tbody tr th:only-of-type {\n",
       "        vertical-align: middle;\n",
       "    }\n",
       "\n",
       "    .dataframe tbody tr th {\n",
       "        vertical-align: top;\n",
       "    }\n",
       "\n",
       "    .dataframe thead th {\n",
       "        text-align: right;\n",
       "    }\n",
       "</style>\n",
       "<table border=\"1\" class=\"dataframe\">\n",
       "  <thead>\n",
       "    <tr style=\"text-align: right;\">\n",
       "      <th></th>\n",
       "      <th>route_id</th>\n",
       "      <th>timestamp</th>\n",
       "      <th>paid_riders</th>\n",
       "    </tr>\n",
       "  </thead>\n",
       "  <tbody>\n",
       "    <tr>\n",
       "      <th>2734804</th>\n",
       "      <td>C101</td>\n",
       "      <td>2024-05-22 18:00:00</td>\n",
       "      <td>143</td>\n",
       "    </tr>\n",
       "    <tr>\n",
       "      <th>2734805</th>\n",
       "      <td>C101</td>\n",
       "      <td>2024-05-22 19:00:00</td>\n",
       "      <td>117</td>\n",
       "    </tr>\n",
       "    <tr>\n",
       "      <th>2734806</th>\n",
       "      <td>C101</td>\n",
       "      <td>2024-05-22 20:00:00</td>\n",
       "      <td>63</td>\n",
       "    </tr>\n",
       "    <tr>\n",
       "      <th>2734807</th>\n",
       "      <td>C101</td>\n",
       "      <td>2024-05-22 21:00:00</td>\n",
       "      <td>14</td>\n",
       "    </tr>\n",
       "    <tr>\n",
       "      <th>2734808</th>\n",
       "      <td>C101</td>\n",
       "      <td>2024-05-22 22:00:00</td>\n",
       "      <td>1</td>\n",
       "    </tr>\n",
       "  </tbody>\n",
       "</table>\n",
       "</div>"
      ],
      "text/plain": [
       "        route_id            timestamp  paid_riders\n",
       "2734804     C101  2024-05-22 18:00:00          143\n",
       "2734805     C101  2024-05-22 19:00:00          117\n",
       "2734806     C101  2024-05-22 20:00:00           63\n",
       "2734807     C101  2024-05-22 21:00:00           14\n",
       "2734808     C101  2024-05-22 22:00:00            1"
      ]
     },
     "metadata": {},
     "output_type": "display_data"
    },
    {
     "data": {
      "text/markdown": [
       "### Info\n",
       "\n"
      ],
      "text/plain": [
       "<IPython.core.display.Markdown object>"
      ]
     },
     "metadata": {},
     "output_type": "display_data"
    },
    {
     "name": "stdout",
     "output_type": "stream",
     "text": [
      "<class 'pandas.core.frame.DataFrame'>\n",
      "RangeIndex: 2734809 entries, 0 to 2734808\n",
      "Data columns (total 3 columns):\n",
      " #   Column       Dtype \n",
      "---  ------       ----- \n",
      " 0   route_id     object\n",
      " 1   timestamp    object\n",
      " 2   paid_riders  int64 \n",
      "dtypes: int64(1), object(2)\n",
      "memory usage: 62.6+ MB\n"
     ]
    },
    {
     "data": {
      "text/plain": [
       "None"
      ]
     },
     "metadata": {},
     "output_type": "display_data"
    },
    {
     "data": {
      "text/markdown": [
       "### Duplicates\n",
       "\n"
      ],
      "text/plain": [
       "<IPython.core.display.Markdown object>"
      ]
     },
     "metadata": {},
     "output_type": "display_data"
    },
    {
     "data": {
      "text/plain": [
       "0"
      ]
     },
     "metadata": {},
     "output_type": "display_data"
    },
    {
     "data": {
      "text/markdown": [
       "### Missing\n",
       "\n"
      ],
      "text/plain": [
       "<IPython.core.display.Markdown object>"
      ]
     },
     "metadata": {},
     "output_type": "display_data"
    },
    {
     "data": {
      "text/plain": [
       "route_id       0\n",
       "timestamp      0\n",
       "paid_riders    0\n",
       "dtype: int64"
      ]
     },
     "metadata": {},
     "output_type": "display_data"
    },
    {
     "data": {
      "text/markdown": [
       "### Unique\n",
       "\n"
      ],
      "text/plain": [
       "<IPython.core.display.Markdown object>"
      ]
     },
     "metadata": {},
     "output_type": "display_data"
    },
    {
     "data": {
      "text/plain": [
       "route_id         184\n",
       "timestamp      17329\n",
       "paid_riders     3479\n",
       "dtype: int64"
      ]
     },
     "metadata": {},
     "output_type": "display_data"
    },
    {
     "data": {
      "text/html": [
       "<div>\n",
       "<style scoped>\n",
       "    .dataframe tbody tr th:only-of-type {\n",
       "        vertical-align: middle;\n",
       "    }\n",
       "\n",
       "    .dataframe tbody tr th {\n",
       "        vertical-align: top;\n",
       "    }\n",
       "\n",
       "    .dataframe thead th {\n",
       "        text-align: right;\n",
       "    }\n",
       "</style>\n",
       "<table border=\"1\" class=\"dataframe\">\n",
       "  <thead>\n",
       "    <tr style=\"text-align: right;\">\n",
       "      <th></th>\n",
       "      <th>paid_riders</th>\n",
       "    </tr>\n",
       "  </thead>\n",
       "  <tbody>\n",
       "    <tr>\n",
       "      <th>count</th>\n",
       "      <td>2.734809e+06</td>\n",
       "    </tr>\n",
       "    <tr>\n",
       "      <th>mean</th>\n",
       "      <td>3.256351e+02</td>\n",
       "    </tr>\n",
       "    <tr>\n",
       "      <th>std</th>\n",
       "      <td>3.639701e+02</td>\n",
       "    </tr>\n",
       "    <tr>\n",
       "      <th>min</th>\n",
       "      <td>1.000000e+00</td>\n",
       "    </tr>\n",
       "    <tr>\n",
       "      <th>25%</th>\n",
       "      <td>6.900000e+01</td>\n",
       "    </tr>\n",
       "    <tr>\n",
       "      <th>50%</th>\n",
       "      <td>1.990000e+02</td>\n",
       "    </tr>\n",
       "    <tr>\n",
       "      <th>75%</th>\n",
       "      <td>4.610000e+02</td>\n",
       "    </tr>\n",
       "    <tr>\n",
       "      <th>max</th>\n",
       "      <td>4.576000e+03</td>\n",
       "    </tr>\n",
       "  </tbody>\n",
       "</table>\n",
       "</div>"
      ],
      "text/plain": [
       "        paid_riders\n",
       "count  2.734809e+06\n",
       "mean   3.256351e+02\n",
       "std    3.639701e+02\n",
       "min    1.000000e+00\n",
       "25%    6.900000e+01\n",
       "50%    1.990000e+02\n",
       "75%    4.610000e+02\n",
       "max    4.576000e+03"
      ]
     },
     "metadata": {},
     "output_type": "display_data"
    },
    {
     "data": {
      "text/markdown": [
       "### Charts\n",
       "\n"
      ],
      "text/plain": [
       "<IPython.core.display.Markdown object>"
      ]
     },
     "metadata": {},
     "output_type": "display_data"
    },
    {
     "data": {
      "text/html": [
       "<div>\n",
       "<style scoped>\n",
       "    .dataframe tbody tr th:only-of-type {\n",
       "        vertical-align: middle;\n",
       "    }\n",
       "\n",
       "    .dataframe tbody tr th {\n",
       "        vertical-align: top;\n",
       "    }\n",
       "\n",
       "    .dataframe thead th {\n",
       "        text-align: right;\n",
       "    }\n",
       "</style>\n",
       "<table border=\"1\" class=\"dataframe\">\n",
       "  <thead>\n",
       "    <tr style=\"text-align: right;\">\n",
       "      <th></th>\n",
       "      <th>index</th>\n",
       "      <th>0</th>\n",
       "    </tr>\n",
       "  </thead>\n",
       "  <tbody>\n",
       "    <tr>\n",
       "      <th>0</th>\n",
       "      <td>route_id</td>\n",
       "      <td>184</td>\n",
       "    </tr>\n",
       "    <tr>\n",
       "      <th>1</th>\n",
       "      <td>timestamp</td>\n",
       "      <td>17329</td>\n",
       "    </tr>\n",
       "    <tr>\n",
       "      <th>2</th>\n",
       "      <td>paid_riders</td>\n",
       "      <td>3479</td>\n",
       "    </tr>\n",
       "  </tbody>\n",
       "</table>\n",
       "</div>"
      ],
      "text/plain": [
       "         index      0\n",
       "0     route_id    184\n",
       "1    timestamp  17329\n",
       "2  paid_riders   3479"
      ]
     },
     "metadata": {},
     "output_type": "display_data"
    },
    {
     "data": {
      "image/png": "[encoded data removed]",
      "text/plain": [
       "<Figure size 640x480 with 1 Axes>"
      ]
     },
     "metadata": {},
     "output_type": "display_data"
    }
   ],
   "source": [
    "dq.data_check(paid_ridership) #No nulls or duplicates, looking good to proceed"
   ]
  },
  {
   "cell_type": "code",
   "execution_count": 21,
   "id": "05a559a6-01ff-4a0a-8102-6738b0ef24a6",
   "metadata": {},
   "outputs": [],
   "source": [
    "import pandasql as psql\n",
    "from pandasql import sqldf \n",
    "#Let's query our data in an easy, efficient way"
   ]
  },
  {
   "cell_type": "code",
   "execution_count": 33,
   "id": "c04db780-6709-4c39-aa6c-5047e2666d84",
   "metadata": {},
   "outputs": [
    {
     "data": {
      "text/html": [
       "<div>\n",
       "<style scoped>\n",
       "    .dataframe tbody tr th:only-of-type {\n",
       "        vertical-align: middle;\n",
       "    }\n",
       "\n",
       "    .dataframe tbody tr th {\n",
       "        vertical-align: top;\n",
       "    }\n",
       "\n",
       "    .dataframe thead th {\n",
       "        text-align: right;\n",
       "    }\n",
       "</style>\n",
       "<table border=\"1\" class=\"dataframe\">\n",
       "  <thead>\n",
       "    <tr style=\"text-align: right;\">\n",
       "      <th></th>\n",
       "      <th>route_id</th>\n",
       "      <th>avg_ridership</th>\n",
       "      <th>is_fare_free</th>\n",
       "    </tr>\n",
       "  </thead>\n",
       "  <tbody>\n",
       "    <tr>\n",
       "      <th>0</th>\n",
       "      <td>C1</td>\n",
       "      <td>9098.59</td>\n",
       "      <td>0</td>\n",
       "    </tr>\n",
       "    <tr>\n",
       "      <th>1</th>\n",
       "      <td>C101</td>\n",
       "      <td>1318.68</td>\n",
       "      <td>0</td>\n",
       "    </tr>\n",
       "    <tr>\n",
       "      <th>2</th>\n",
       "      <td>C102</td>\n",
       "      <td>2265.11</td>\n",
       "      <td>0</td>\n",
       "    </tr>\n",
       "    <tr>\n",
       "      <th>3</th>\n",
       "      <td>C116</td>\n",
       "      <td>3205.88</td>\n",
       "      <td>0</td>\n",
       "    </tr>\n",
       "    <tr>\n",
       "      <th>4</th>\n",
       "      <td>C124</td>\n",
       "      <td>19702.22</td>\n",
       "      <td>0</td>\n",
       "    </tr>\n",
       "  </tbody>\n",
       "</table>\n",
       "</div>"
      ],
      "text/plain": [
       "  route_id  avg_ridership  is_fare_free\n",
       "0       C1        9098.59             0\n",
       "1     C101        1318.68             0\n",
       "2     C102        2265.11             0\n",
       "3     C116        3205.88             0\n",
       "4     C124       19702.22             0"
      ]
     },
     "execution_count": 33,
     "metadata": {},
     "output_type": "execute_result"
    }
   ],
   "source": [
    "# Let's get the average ridership for non-affected routes, prior to 9/24/2023\n",
    "Pre_Free_Non_Affected_Ridership = sqldf('''select route_id, round(avg(riders),2) as avg_ridership, is_fare_free from total_ridership\n",
    "where date < '2023-09-24' and is_fare_free = 0\n",
    "and route_id not in ('A13','S87','U43','U52','W64')\n",
    "group by route_id''')\n",
    "Pre_Free_Non_Affected_Ridership.head()"
   ]
  },
  {
   "cell_type": "code",
   "execution_count": 39,
   "id": "0ec21f7a-03d5-40d1-9937-293a6cad7153",
   "metadata": {},
   "outputs": [
    {
     "data": {
      "text/html": [
       "<div>\n",
       "<style scoped>\n",
       "    .dataframe tbody tr th:only-of-type {\n",
       "        vertical-align: middle;\n",
       "    }\n",
       "\n",
       "    .dataframe tbody tr th {\n",
       "        vertical-align: top;\n",
       "    }\n",
       "\n",
       "    .dataframe thead th {\n",
       "        text-align: right;\n",
       "    }\n",
       "</style>\n",
       "<table border=\"1\" class=\"dataframe\">\n",
       "  <thead>\n",
       "    <tr style=\"text-align: right;\">\n",
       "      <th></th>\n",
       "      <th>route_id</th>\n",
       "      <th>avg_ridership</th>\n",
       "      <th>is_fare_free</th>\n",
       "    </tr>\n",
       "  </thead>\n",
       "  <tbody>\n",
       "    <tr>\n",
       "      <th>0</th>\n",
       "      <td>A13</td>\n",
       "      <td>6533.08</td>\n",
       "      <td>0</td>\n",
       "    </tr>\n",
       "    <tr>\n",
       "      <th>1</th>\n",
       "      <td>S87</td>\n",
       "      <td>1070.64</td>\n",
       "      <td>0</td>\n",
       "    </tr>\n",
       "    <tr>\n",
       "      <th>2</th>\n",
       "      <td>U43</td>\n",
       "      <td>8380.06</td>\n",
       "      <td>0</td>\n",
       "    </tr>\n",
       "    <tr>\n",
       "      <th>3</th>\n",
       "      <td>U52</td>\n",
       "      <td>8005.77</td>\n",
       "      <td>0</td>\n",
       "    </tr>\n",
       "    <tr>\n",
       "      <th>4</th>\n",
       "      <td>W64</td>\n",
       "      <td>9386.23</td>\n",
       "      <td>0</td>\n",
       "    </tr>\n",
       "  </tbody>\n",
       "</table>\n",
       "</div>"
      ],
      "text/plain": [
       "  route_id  avg_ridership  is_fare_free\n",
       "0      A13        6533.08             0\n",
       "1      S87        1070.64             0\n",
       "2      U43        8380.06             0\n",
       "3      U52        8005.77             0\n",
       "4      W64        9386.23             0"
      ]
     },
     "execution_count": 39,
     "metadata": {},
     "output_type": "execute_result"
    }
   ],
   "source": [
    "# Lets get the average ridership for affected routes, prior to 9/24/2023\n",
    "Pre_Free_Affected_Ridership = sqldf('''select route_id, round(avg(riders),2) as avg_ridership, is_fare_free from total_ridership tr \n",
    "where date < '2023-09-24' and is_fare_free = 0\n",
    "and route_id in ('A13','S87','U43','U52','W64')\n",
    "group by route_id''')\n",
    "Pre_Free_Affected_Ridership.head()"
   ]
  },
  {
   "cell_type": "code",
   "execution_count": 41,
   "id": "69167feb-d178-48ca-a36b-d019eb92db7b",
   "metadata": {},
   "outputs": [
    {
     "data": {
      "text/html": [
       "<div>\n",
       "<style scoped>\n",
       "    .dataframe tbody tr th:only-of-type {\n",
       "        vertical-align: middle;\n",
       "    }\n",
       "\n",
       "    .dataframe tbody tr th {\n",
       "        vertical-align: top;\n",
       "    }\n",
       "\n",
       "    .dataframe thead th {\n",
       "        text-align: right;\n",
       "    }\n",
       "</style>\n",
       "<table border=\"1\" class=\"dataframe\">\n",
       "  <thead>\n",
       "    <tr style=\"text-align: right;\">\n",
       "      <th></th>\n",
       "      <th>route_id</th>\n",
       "      <th>avg_ridership</th>\n",
       "      <th>is_fare_free</th>\n",
       "    </tr>\n",
       "  </thead>\n",
       "  <tbody>\n",
       "    <tr>\n",
       "      <th>0</th>\n",
       "      <td>C1</td>\n",
       "      <td>10277.60</td>\n",
       "      <td>0</td>\n",
       "    </tr>\n",
       "    <tr>\n",
       "      <th>1</th>\n",
       "      <td>C101</td>\n",
       "      <td>1416.68</td>\n",
       "      <td>0</td>\n",
       "    </tr>\n",
       "    <tr>\n",
       "      <th>2</th>\n",
       "      <td>C102</td>\n",
       "      <td>2512.80</td>\n",
       "      <td>0</td>\n",
       "    </tr>\n",
       "    <tr>\n",
       "      <th>3</th>\n",
       "      <td>C116</td>\n",
       "      <td>3476.45</td>\n",
       "      <td>0</td>\n",
       "    </tr>\n",
       "    <tr>\n",
       "      <th>4</th>\n",
       "      <td>C124</td>\n",
       "      <td>20262.61</td>\n",
       "      <td>0</td>\n",
       "    </tr>\n",
       "  </tbody>\n",
       "</table>\n",
       "</div>"
      ],
      "text/plain": [
       "  route_id  avg_ridership  is_fare_free\n",
       "0       C1       10277.60             0\n",
       "1     C101        1416.68             0\n",
       "2     C102        2512.80             0\n",
       "3     C116        3476.45             0\n",
       "4     C124       20262.61             0"
      ]
     },
     "execution_count": 41,
     "metadata": {},
     "output_type": "execute_result"
    }
   ],
   "source": [
    "# Let's get average ridership for non-affected routes, after 9/24/2023\n",
    "Post_Free_Non_Affected_Ridership = sqldf('''\n",
    "select route_id,round(avg(riders),2) as avg_ridership, is_fare_free from total_ridership tr \n",
    "where date >= '2023-09-24' and is_fare_free = 0\n",
    "and route_id not in ('A13','S87','U43','U52','W64')\n",
    "group by route_id \n",
    "''')\n",
    "Post_Free_Non_Affected_Ridership.head()"
   ]
  },
  {
   "cell_type": "code",
   "execution_count": 191,
   "id": "b5e91ccc-9b59-4970-a673-843dde95aaa3",
   "metadata": {},
   "outputs": [
    {
     "data": {
      "text/html": [
       "<div>\n",
       "<style scoped>\n",
       "    .dataframe tbody tr th:only-of-type {\n",
       "        vertical-align: middle;\n",
       "    }\n",
       "\n",
       "    .dataframe tbody tr th {\n",
       "        vertical-align: top;\n",
       "    }\n",
       "\n",
       "    .dataframe thead th {\n",
       "        text-align: right;\n",
       "    }\n",
       "</style>\n",
       "<table border=\"1\" class=\"dataframe\">\n",
       "  <thead>\n",
       "    <tr style=\"text-align: right;\">\n",
       "      <th></th>\n",
       "      <th>route_id</th>\n",
       "      <th>avg_ridership</th>\n",
       "      <th>is_fare_free</th>\n",
       "    </tr>\n",
       "  </thead>\n",
       "  <tbody>\n",
       "    <tr>\n",
       "      <th>0</th>\n",
       "      <td>A13</td>\n",
       "      <td>8660.07</td>\n",
       "      <td>1</td>\n",
       "    </tr>\n",
       "    <tr>\n",
       "      <th>1</th>\n",
       "      <td>S87</td>\n",
       "      <td>1160.96</td>\n",
       "      <td>1</td>\n",
       "    </tr>\n",
       "    <tr>\n",
       "      <th>2</th>\n",
       "      <td>U43</td>\n",
       "      <td>11638.04</td>\n",
       "      <td>1</td>\n",
       "    </tr>\n",
       "    <tr>\n",
       "      <th>3</th>\n",
       "      <td>U52</td>\n",
       "      <td>11239.57</td>\n",
       "      <td>1</td>\n",
       "    </tr>\n",
       "    <tr>\n",
       "      <th>4</th>\n",
       "      <td>W64</td>\n",
       "      <td>12811.40</td>\n",
       "      <td>1</td>\n",
       "    </tr>\n",
       "  </tbody>\n",
       "</table>\n",
       "</div>"
      ],
      "text/plain": [
       "  route_id  avg_ridership  is_fare_free\n",
       "0      A13        8660.07             1\n",
       "1      S87        1160.96             1\n",
       "2      U43       11638.04             1\n",
       "3      U52       11239.57             1\n",
       "4      W64       12811.40             1"
      ]
     },
     "execution_count": 191,
     "metadata": {},
     "output_type": "execute_result"
    }
   ],
   "source": [
    "# Let's get average ridership for affected routes, after 9/24/2023\n",
    "Post_Free_Affected_Ridership = sqldf('''\n",
    "select route_id,round(avg(riders),2) as avg_ridership, is_fare_free from total_ridership tr \n",
    "where date >= '2023-09-24' and is_fare_free = 1\n",
    "group by route_id  \n",
    "''')\n",
    "Post_Free_Affected_Ridership.head()"
   ]
  },
  {
   "cell_type": "code",
   "execution_count": 71,
   "id": "3b0cd48e-e956-47ed-a817-cb19b7868564",
   "metadata": {},
   "outputs": [
    {
     "data": {
      "text/html": [
       "<div>\n",
       "<style scoped>\n",
       "    .dataframe tbody tr th:only-of-type {\n",
       "        vertical-align: middle;\n",
       "    }\n",
       "\n",
       "    .dataframe tbody tr th {\n",
       "        vertical-align: top;\n",
       "    }\n",
       "\n",
       "    .dataframe thead th {\n",
       "        text-align: right;\n",
       "    }\n",
       "</style>\n",
       "<table border=\"1\" class=\"dataframe\">\n",
       "  <thead>\n",
       "    <tr style=\"text-align: right;\">\n",
       "      <th></th>\n",
       "      <th>avg(change_in_avg_ridership)</th>\n",
       "    </tr>\n",
       "  </thead>\n",
       "  <tbody>\n",
       "    <tr>\n",
       "      <th>0</th>\n",
       "      <td>555.405307</td>\n",
       "    </tr>\n",
       "  </tbody>\n",
       "</table>\n",
       "</div>"
      ],
      "text/plain": [
       "   avg(change_in_avg_ridership)\n",
       "0                    555.405307"
      ]
     },
     "execution_count": 71,
     "metadata": {},
     "output_type": "execute_result"
    }
   ],
   "source": [
    "#Let's calculate the change in avg ridership for non-affected routes, using two of our queries from above\n",
    "Avg_Change_In_NonAffected_Ridership = sqldf('''\n",
    "with changes_in_non_free_ridership as(\n",
    "select pfna.route_id as route_id, \n",
    "pfna.avg_ridership, ppfna.avg_ridership, \n",
    "(pfna.avg_ridership-ppfna.avg_ridership) as change_in_avg_ridership\n",
    "from Post_Free_Non_Affected_Ridership pfna\n",
    "inner join Pre_Free_Non_Affected_Ridership ppfna on ppfna.route_id = pfna.route_id\n",
    ")\n",
    "select avg(change_in_avg_ridership)\n",
    "from changes_in_non_free_ridership\n",
    "''')\n",
    "Avg_Change_In_NonAffected_Ridership #This gives our avg change in ridership pre and post free\n"
   ]
  },
  {
   "cell_type": "code",
   "execution_count": 181,
   "id": "2134708c-3b20-47e7-8fcb-6c33cd690279",
   "metadata": {},
   "outputs": [
    {
     "data": {
      "text/html": [
       "<div>\n",
       "<style scoped>\n",
       "    .dataframe tbody tr th:only-of-type {\n",
       "        vertical-align: middle;\n",
       "    }\n",
       "\n",
       "    .dataframe tbody tr th {\n",
       "        vertical-align: top;\n",
       "    }\n",
       "\n",
       "    .dataframe thead th {\n",
       "        text-align: right;\n",
       "    }\n",
       "</style>\n",
       "<table border=\"1\" class=\"dataframe\">\n",
       "  <thead>\n",
       "    <tr style=\"text-align: right;\">\n",
       "      <th></th>\n",
       "      <th>avg(change_in_avg_ridership)</th>\n",
       "    </tr>\n",
       "  </thead>\n",
       "  <tbody>\n",
       "    <tr>\n",
       "      <th>0</th>\n",
       "      <td>2426.852</td>\n",
       "    </tr>\n",
       "  </tbody>\n",
       "</table>\n",
       "</div>"
      ],
      "text/plain": [
       "   avg(change_in_avg_ridership)\n",
       "0                      2426.852"
      ]
     },
     "execution_count": 181,
     "metadata": {},
     "output_type": "execute_result"
    }
   ],
   "source": [
    "#Let's calculate the change in avg ridership for affected routes, using two of our queries from above\n",
    "\n",
    "Avg_Change_In_Affected_Ridership = sqldf('''\n",
    "with changes_in_free_ridership as(\n",
    "select pfar.route_id as route_id, \n",
    "pfar.avg_ridership, ppfar.avg_ridership,\n",
    "(pfar.avg_ridership - ppfar.avg_ridership) as change_in_avg_ridership\n",
    "from Post_Free_Affected_Ridership pfar\n",
    "inner join Pre_Free_Affected_Ridership ppfar on ppfar.route_id = pfar.route_id\n",
    ")\n",
    "select avg(change_in_avg_ridership)\n",
    "from changes_in_free_ridership\n",
    "''') \n",
    "Avg_Change_In_Affected_Ridership #This gives our avg change in ridership pre and post free for affected routes"
   ]
  },
  {
   "cell_type": "code",
   "execution_count": 183,
   "id": "2a171c2b-709f-48e9-9fbe-19a15ebca7fc",
   "metadata": {},
   "outputs": [
    {
     "name": "stdout",
     "output_type": "stream",
     "text": [
      "The Average Change in Ridership on Routes not made Free is:    avg(change_in_avg_ridership)\n",
      "0                    555.405307\n",
      "The Average Change in Ridership on Routes made Free is:    avg(change_in_avg_ridership)\n",
      "0                      2426.852\n"
     ]
    }
   ],
   "source": [
    "print(\"The Average Change in Ridership on Routes not made Free is:\",Avg_Change_In_NonAffected_Ridership)\n",
    "print(\"The Average Change in Ridership on Routes made Free is:\", Avg_Change_In_Affected_Ridership)\n",
    "#Note that the avg change in ridership on routes made free is nearly 5x the change in ridership on routes not made free!"
   ]
  },
  {
   "cell_type": "code",
   "execution_count": 163,
   "id": "cfb533db-3fdd-458a-9abb-ccb498a4cf4d",
   "metadata": {},
   "outputs": [
    {
     "name": "stdout",
     "output_type": "stream",
     "text": [
      "Non-Affected Pre-Free Avg: 7805.552402234637\n",
      "Non-Affected Post-Free Avg: 8360.957709497208\n",
      "Affected Pre-Free Avg: 6675.156\n",
      "Affected Post-Free Avg: 9102.008\n"
     ]
    }
   ],
   "source": [
    "# In order to graph our results, let's calculate the average ridership (over all routes) in each of our 4 categories- this will be used to make graphing easier.\n",
    "# We use the 'avg_ridership' column from our SQL queries above and calculate the mean of this value for each of our 4 categories\n",
    "\n",
    "Non_Affected_Pre_Free_Avg = Pre_Free_Non_Affected_Ridership['avg_ridership'].mean() # Takes the average of the avg ridership (across all routes) from our query\n",
    "Non_Affected_Post_Free_Avg = Post_Free_Non_Affected_Ridership['avg_ridership'].mean()\n",
    "Affected_Pre_Free_Avg = Pre_Free_Affected_Ridership['avg_ridership'].mean()\n",
    "Affected_Post_Free_Avg = Post_Free_Affected_Ridership['avg_ridership'].mean()\n",
    "\n",
    "# Test\n",
    "print(\"Non-Affected Pre-Free Avg:\", Non_Affected_Pre_Free_Avg)\n",
    "print(\"Non-Affected Post-Free Avg:\", Non_Affected_Post_Free_Avg)\n",
    "print(\"Affected Pre-Free Avg:\", Affected_Pre_Free_Avg)\n",
    "print(\"Affected Post-Free Avg:\", Affected_Post_Free_Avg)\n",
    "\n",
    "# Looks good (numbers look to be within expected ranges, and consistent with our results from Cell 183)"
   ]
  },
  {
   "cell_type": "code",
   "execution_count": 215,
   "id": "28fc943c-98a9-4293-86b5-fa8c6b795167",
   "metadata": {},
   "outputs": [
    {
     "name": "stdout",
     "output_type": "stream",
     "text": [
      "                     Pre-Free Fare  Post-Free Fare   Difference\n",
      "Non-Affected Routes    7805.552402     8360.957709   555.405307\n",
      "Affected Routes        6675.156000     9102.008000  2426.852000\n"
     ]
    }
   ],
   "source": [
    "# Let's tabulate the results from the previous cell, using a dictionary and dataframe\n",
    "table_data = {\n",
    "'Pre-Free Fare': [Non_Affected_Pre_Free_Avg, Affected_Pre_Free_Avg],\n",
    "'Post-Free Fare': [Non_Affected_Post_Free_Avg,Affected_Post_Free_Avg],\n",
    "'Difference': [(Non_Affected_Post_Free_Avg - Non_Affected_Pre_Free_Avg),(Affected_Post_Free_Avg - Affected_Pre_Free_Avg)]\n",
    "}\n",
    "\n",
    "table = pd.DataFrame(table_data, index = ['Non-Affected Routes', 'Affected Routes'])\n",
    "print(table)"
   ]
  },
  {
   "cell_type": "code",
   "execution_count": 173,
   "id": "85ac1469-f875-4bce-ae24-0a380a32dfed",
   "metadata": {},
   "outputs": [
    {
     "data": {
      "image/png": "[encoded data removed]",
      "text/plain": [
       "<Figure size 1000x600 with 1 Axes>"
      ]
     },
     "metadata": {},
     "output_type": "display_data"
    }
   ],
   "source": [
    "# Now, let's combine the results of our queries into a new dataframe so that we can graph our results\n",
    "\n",
    "\n",
    "# Similar to above, let's create a dictionary to map our x and y values to single variables, using the averages calculated above\n",
    "graphing_data = {\n",
    "'Route_Type': ['Non-Affected Pre-Free', 'Non-Affected Post-Free', 'Affected Pre-Free', 'Affected Post-Free'],\n",
    "'Avg_Ridership': [\n",
    "Non_Affected_Pre_Free_Avg,  \n",
    "Non_Affected_Post_Free_Avg,  \n",
    "Affected_Pre_Free_Avg,     \n",
    "Affected_Post_Free_Avg      \n",
    "]\n",
    "}\n",
    "\n",
    "# Create DataFrame and load the data from the dictionary created above\n",
    "graph_data_frame = pd.DataFrame(graphing_data)\n",
    "\n",
    "# Googled a nice color palette for this \n",
    "color_palette = ['#1f77b4', '#aec7e8', '#ff7f0e', '#ffbb78']\n",
    "\n",
    "\n",
    "plt.figure(figsize = (10, 6))\n",
    "plt.bar(graph_data_frame['Route_Type'], graph_data_frame['Avg_Ridership'], color = color_palette)\n",
    "\n",
    "\n",
    "plt.xlabel('Route Type and Period')\n",
    "plt.ylabel('Average Ridership')\n",
    "plt.title('Ridership Before and After Fare-Free Implementation')\n",
    "\n",
    "plt.show()\n",
    "# Note the significantly larger increase in ridership on affected routes than non-affected routes.\n",
    "# This is consistent with our results from Cell 183."
   ]
  },
  {
   "cell_type": "code",
   "execution_count": 187,
   "id": "058d0e61-17f6-488c-b351-31ee55f1f023",
   "metadata": {},
   "outputs": [
    {
     "data": {
      "image/png": "[encoded data removed]",
      "text/plain": [
       "<Figure size 1000x600 with 1 Axes>"
      ]
     },
     "metadata": {},
     "output_type": "display_data"
    }
   ],
   "source": [
    "# Now, let's make a double line graph with data for both affected and non-affected routes\n",
    "# Let's also include an indication line for when the free fare program started\n",
    "# Our raw data is already in a suitable format to graph so we don't need to create a new dataframe here. \n",
    "\n",
    "# Filter data for affected and non-affected routes\n",
    "affected_routes = total_ridership[total_ridership['route_id'].isin(['A13', 'S87', 'U43', 'U52', 'W64'])]\n",
    "non_affected_routes = total_ridership[~total_ridership['route_id'].isin(['A13', 'S87', 'U43', 'U52', 'W64'])]\n",
    "\n",
    "# Aggregate daily avg for each group\n",
    "affected = affected_routes.groupby('date')['riders'].mean().reset_index() #Avg riders across all affected routes on a given day\n",
    "non_affected = non_affected_routes.groupby('date')['riders'].mean().reset_index() #Avg riders across all non-affected routes on a given day\n",
    "\n",
    "\n",
    "# Plot\n",
    "plt.figure(figsize = (10, 6))\n",
    "plt.plot(affected['date'], affected['riders'], label = 'Affected Routes', color = 'orange', alpha = 0.7)\n",
    "plt.plot(non_affected['date'], non_affected['riders'], label = 'Non-Affected Routes', color = 'blue', alpha = 0.7)\n",
    "\n",
    "\n",
    "\n",
    "# Add a vertical line for 9/24/2023 (converted to string)\n",
    "fare_free_date = pd.to_datetime('2023-09-24').strftime('%Y-%m-%d')\n",
    "plt.axvline(fare_free_date, color = 'red', linestyle = '--', label = 'Fare-Free Start (9/24/2023)')\n",
    "\n",
    "# Labels and such\n",
    "plt.xlabel('Date')\n",
    "plt.ylabel('Average Ridership')\n",
    "plt.title('Ridership Trends Before and After Fare-Free Implementation')\n",
    "plt.legend()\n",
    "plt.xticks(affected['date'][::15], rotation = 90) #Create an interval (every two weeks) for x-ticks so we don't have hundreds of dates \n",
    "plt.tight_layout()\n",
    "\n",
    "\n",
    "\n",
    "plt.show()\n",
    "\n"
   ]
  },
  {
   "cell_type": "code",
   "execution_count": 239,
   "id": "01a970a5-750c-4851-a369-7d92c9184530",
   "metadata": {},
   "outputs": [
    {
     "data": {
      "text/html": [
       "<div>\n",
       "<style scoped>\n",
       "    .dataframe tbody tr th:only-of-type {\n",
       "        vertical-align: middle;\n",
       "    }\n",
       "\n",
       "    .dataframe tbody tr th {\n",
       "        vertical-align: top;\n",
       "    }\n",
       "\n",
       "    .dataframe thead th {\n",
       "        text-align: right;\n",
       "    }\n",
       "</style>\n",
       "<table border=\"1\" class=\"dataframe\">\n",
       "  <thead>\n",
       "    <tr style=\"text-align: right;\">\n",
       "      <th></th>\n",
       "      <th>date</th>\n",
       "      <th>riders</th>\n",
       "    </tr>\n",
       "  </thead>\n",
       "  <tbody>\n",
       "    <tr>\n",
       "      <th>0</th>\n",
       "      <td>2022-06-01</td>\n",
       "      <td>7634.20</td>\n",
       "    </tr>\n",
       "    <tr>\n",
       "      <th>1</th>\n",
       "      <td>2022-06-02</td>\n",
       "      <td>7385.60</td>\n",
       "    </tr>\n",
       "    <tr>\n",
       "      <th>2</th>\n",
       "      <td>2022-06-03</td>\n",
       "      <td>7397.00</td>\n",
       "    </tr>\n",
       "    <tr>\n",
       "      <th>3</th>\n",
       "      <td>2022-06-04</td>\n",
       "      <td>5338.00</td>\n",
       "    </tr>\n",
       "    <tr>\n",
       "      <th>4</th>\n",
       "      <td>2022-06-05</td>\n",
       "      <td>4194.75</td>\n",
       "    </tr>\n",
       "    <tr>\n",
       "      <th>...</th>\n",
       "      <td>...</td>\n",
       "      <td>...</td>\n",
       "    </tr>\n",
       "    <tr>\n",
       "      <th>717</th>\n",
       "      <td>2024-05-18</td>\n",
       "      <td>8452.50</td>\n",
       "    </tr>\n",
       "    <tr>\n",
       "      <th>718</th>\n",
       "      <td>2024-05-19</td>\n",
       "      <td>6771.75</td>\n",
       "    </tr>\n",
       "    <tr>\n",
       "      <th>719</th>\n",
       "      <td>2024-05-20</td>\n",
       "      <td>11919.60</td>\n",
       "    </tr>\n",
       "    <tr>\n",
       "      <th>720</th>\n",
       "      <td>2024-05-21</td>\n",
       "      <td>11896.20</td>\n",
       "    </tr>\n",
       "    <tr>\n",
       "      <th>721</th>\n",
       "      <td>2024-05-22</td>\n",
       "      <td>11927.80</td>\n",
       "    </tr>\n",
       "  </tbody>\n",
       "</table>\n",
       "<p>722 rows × 2 columns</p>\n",
       "</div>"
      ],
      "text/plain": [
       "           date    riders\n",
       "0    2022-06-01   7634.20\n",
       "1    2022-06-02   7385.60\n",
       "2    2022-06-03   7397.00\n",
       "3    2022-06-04   5338.00\n",
       "4    2022-06-05   4194.75\n",
       "..          ...       ...\n",
       "717  2024-05-18   8452.50\n",
       "718  2024-05-19   6771.75\n",
       "719  2024-05-20  11919.60\n",
       "720  2024-05-21  11896.20\n",
       "721  2024-05-22  11927.80\n",
       "\n",
       "[722 rows x 2 columns]"
      ]
     },
     "execution_count": 239,
     "metadata": {},
     "output_type": "execute_result"
    }
   ],
   "source": [
    "affected\n"
   ]
  }
 ],
 "metadata": {
  "kernelspec": {
   "display_name": "Python 3 (ipykernel)",
   "language": "python",
   "name": "python3"
  },
  "language_info": {
   "codemirror_mode": {
    "name": "ipython",
    "version": 3
   },
   "file_extension": ".py",
   "mimetype": "text/x-python",
   "name": "python",
   "nbconvert_exporter": "python",
   "pygments_lexer": "ipython3",
   "version": "3.12.7"
  }
 },
 "nbformat": 4,
 "nbformat_minor": 5
}
