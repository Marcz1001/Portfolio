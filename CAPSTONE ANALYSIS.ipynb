{
 "cells": [
  {
   "cell_type": "code",
   "execution_count": 123,
   "id": "b1e1d27e-3488-452c-b716-a1f66525465f",
   "metadata": {},
   "outputs": [],
   "source": [
    "import pandas as pd\n",
    "import numpy as np\n",
    "import matplotlib.pyplot as plt\n",
    "import datetime as date\n",
    "import dataquality as dq\n",
    "import pandasql as psql\n",
    "from pandasql import sqldf\n",
    "import statsmodels.api as sm\n",
    "import statsmodels.formula.api as smf\n",
    "from scipy import stats"
   ]
  },
  {
   "cell_type": "code",
   "execution_count": null,
   "id": "5f10f110-6882-433a-b588-02405d70a76c",
   "metadata": {},
   "outputs": [],
   "source": [
    "df_prequel = pd.read_csv('1996-1997 Relevant Data.csv')\n",
    "dq.data_check(df_prequel)"
   ]
  },
  {
   "cell_type": "code",
   "execution_count": null,
   "id": "dfe15c4d-33e8-4bff-b0d3-1825b861b257",
   "metadata": {},
   "outputs": [],
   "source": [
    "#Import table from 2000-2001 Season\n",
    "df_old = pd.read_csv('2000-01 Relevant Data.csv')\n",
    "df_old.head()"
   ]
  },
  {
   "cell_type": "code",
   "execution_count": null,
   "id": "1d0bca4f-e501-43ea-a5cd-d1d12fbba6f7",
   "metadata": {},
   "outputs": [],
   "source": [
    "#Import table from 2023-2024 Season\n",
    "df_new = pd.read_csv('2023-24 Relevant Data.csv')\n",
    "df_new.head()"
   ]
  },
  {
   "cell_type": "code",
   "execution_count": null,
   "id": "5459420d-e89e-435e-9078-c38893f9a862",
   "metadata": {},
   "outputs": [],
   "source": [
    "dq.data_check(df_old)\n",
    "dq.data_check(df_new)\n"
   ]
  },
  {
   "cell_type": "code",
   "execution_count": null,
   "id": "71ab8603-d0c0-4945-8b55-ebce68fbf85f",
   "metadata": {},
   "outputs": [],
   "source": [
    "df_04 = pd.read_csv('2004-2005 Relevant Data.csv')\n",
    "dq.data_check(df_04)"
   ]
  },
  {
   "cell_type": "code",
   "execution_count": null,
   "id": "9b46d805-6e29-436f-9fc1-398d7ae34412",
   "metadata": {},
   "outputs": [],
   "source": [
    "df_pre_curry = pd.read_csv('2008-09 Relevant Data.csv')\n",
    "df_pre_curry.head()\n",
    "dq.data_check(df_pre_curry)"
   ]
  },
  {
   "cell_type": "code",
   "execution_count": null,
   "id": "c9210d54-d0ee-463f-a44c-f18876cb277b",
   "metadata": {},
   "outputs": [],
   "source": [
    "df_11 = pd.read_csv('2011-2012 Relevant Data.csv')\n",
    "dq.data_check(df_11)"
   ]
  },
  {
   "cell_type": "code",
   "execution_count": null,
   "id": "30e81971-6d48-4af7-a21b-6ee8533b3080",
   "metadata": {},
   "outputs": [],
   "source": [
    "df_20 = pd.read_csv('2020-21 Relevant Data.csv')\n",
    "df_20.head()\n",
    "dq.data_check(df_20)"
   ]
  },
  {
   "cell_type": "code",
   "execution_count": null,
   "id": "a41c414c-a820-409a-8be9-467f076382a0",
   "metadata": {},
   "outputs": [],
   "source": [
    "df_post_curry = pd.read_csv('2015-16 Relevant Data.csv')\n",
    "df_post_curry.head()\n",
    "dq.data_check(df_post_curry)"
   ]
  },
  {
   "cell_type": "markdown",
   "id": "be4e02d0-ef7b-4ce0-b935-677f07c48f2d",
   "metadata": {},
   "source": [
    "### After running our preliminary data check, we can see that there are some null values in our shooting data, typically for players who did not play much or didn't have many minutes. I will replace these null values with 0"
   ]
  },
  {
   "cell_type": "code",
   "execution_count": 69,
   "id": "b996b719-565e-4c11-924e-02d98fca52c6",
   "metadata": {},
   "outputs": [],
   "source": [
    "df_prequel.fillna(0,inplace=True)"
   ]
  },
  {
   "cell_type": "code",
   "execution_count": null,
   "id": "3f0129ef-084b-4c17-af02-7e3985f3b0de",
   "metadata": {},
   "outputs": [],
   "source": [
    "df_old.fillna(0,inplace=True)"
   ]
  },
  {
   "cell_type": "markdown",
   "id": "80794757-b5bf-4d58-b76b-6363ed750b1c",
   "metadata": {},
   "source": [
    "### We can see the same is true for the rest of our dataframes, so we will also replace nulls with zero."
   ]
  },
  {
   "cell_type": "code",
   "execution_count": null,
   "id": "13bf6416-69fd-4d24-a678-d31687a36a8f",
   "metadata": {},
   "outputs": [],
   "source": [
    "df_new.fillna(0,inplace=True)\n"
   ]
  },
  {
   "cell_type": "code",
   "execution_count": 51,
   "id": "1a84f183-bc9c-4789-a24b-23f672cbaf6f",
   "metadata": {},
   "outputs": [],
   "source": [
    "df_04.fillna(0,inplace=True)"
   ]
  },
  {
   "cell_type": "code",
   "execution_count": null,
   "id": "2734e455-52bb-4734-9580-a1a1cc5b2a91",
   "metadata": {},
   "outputs": [],
   "source": [
    "df_pre_curry.fillna(0,inplace=True)"
   ]
  },
  {
   "cell_type": "code",
   "execution_count": 59,
   "id": "32a24ae6-cf82-4aab-bbe6-890f47bd309f",
   "metadata": {},
   "outputs": [],
   "source": [
    "df_11.fillna(0,inplace=True)"
   ]
  },
  {
   "cell_type": "code",
   "execution_count": null,
   "id": "466215dd-27ca-45be-92d4-6788a2842d43",
   "metadata": {},
   "outputs": [],
   "source": [
    "df_20.fillna(0,inplace=True)"
   ]
  },
  {
   "cell_type": "code",
   "execution_count": null,
   "id": "03ecbb0f-35b5-46dc-9ee5-44d2b86bb0d8",
   "metadata": {},
   "outputs": [],
   "source": [
    "df_post_curry.fillna(0,inplace=True)"
   ]
  },
  {
   "cell_type": "code",
   "execution_count": 71,
   "id": "5fed14bd-2b82-4702-965e-ddf0d20b82b9",
   "metadata": {},
   "outputs": [
    {
     "name": "stdout",
     "output_type": "stream",
     "text": [
      "The Average Percentage of Shots that were short-range was: 0.14807478260869567\n",
      "The Average Percentage of Shots that were mid-range was: 0.2787669565217391\n",
      "The Average Percentage of Shots that were Three Pointers was: 0.1942017391304348\n"
     ]
    }
   ],
   "source": [
    "# Let's calculate averages for each type of shot for the 1996-97 season\n",
    "avg_shortest_range_in_1996 = df_prequel['3-10_Pct_Shot'].mean()\n",
    "avg_shortest_range_in_1996\n",
    "\n",
    "avg_mid_range_in_1996 = (df_prequel['10-16_Pct_Shot'].mean() + df_prequel['16-3P_Pct_Shot'].mean())\n",
    "avg_mid_range_in_1996\n",
    "\n",
    "avg_3p_in_1996 = df_prequel['3P_Pct_Shot'].mean()\n",
    "\n",
    "print(\n",
    "    f\"The Average Percentage of Shots that were short-range was: {avg_shortest_range_in_1996}\\n\"\n",
    "    f\"The Average Percentage of Shots that were mid-range was: {avg_mid_range_in_1996}\\n\"\n",
    "    f\"The Average Percentage of Shots that were Three Pointers was: {avg_3p_in_1996}\"\n",
    ")"
   ]
  },
  {
   "cell_type": "code",
   "execution_count": 73,
   "id": "90eeee93-60bf-471d-ba2d-5042e860e30a",
   "metadata": {},
   "outputs": [
    {
     "name": "stdout",
     "output_type": "stream",
     "text": [
      "The Average Percentage of Shots that were short-range was: 0.17018249534450652\n",
      "The Average Percentage of Shots that were mid-range was: 0.3794376163873371\n",
      "The Average Percentage of Shots that were Three Pointers was: 0.14841527001862195\n"
     ]
    }
   ],
   "source": [
    "# Let's start calculating averages for each type of shot, starting with the 2000-01 dataset\n",
    "avg_shortest_range_in_2000 = df_old['3-10_Pct_Shot'].mean()\n",
    "avg_shortest_range_in_2000\n",
    "\n",
    "avg_mid_range_in_2000 = (df_old['10-16_Pct_Shot'].mean() + df_old['16-3P_Pct_Shot'].mean())\n",
    "avg_mid_range_in_2000\n",
    "\n",
    "avg_3p_in_2000 = df_old['3P_Pct_Shot'].mean()\n",
    "\n",
    "print(\n",
    "    f\"The Average Percentage of Shots that were short-range was: {avg_shortest_range_in_2000}\\n\"\n",
    "    f\"The Average Percentage of Shots that were mid-range was: {avg_mid_range_in_2000}\\n\"\n",
    "    f\"The Average Percentage of Shots that were Three Pointers was: {avg_3p_in_2000}\"\n",
    ")\n"
   ]
  },
  {
   "cell_type": "code",
   "execution_count": 53,
   "id": "13be8030-1069-4bee-89bd-fbb537709402",
   "metadata": {},
   "outputs": [
    {
     "name": "stdout",
     "output_type": "stream",
     "text": [
      "The Average Percentage of Shots that were short-range was: 0.1350153846153846\n",
      "The Average Percentage of Shots that were mid-range was: 0.3557794871794872\n",
      "The Average Percentage of Shots that were Three Pointers was: 0.18063760683760685\n"
     ]
    }
   ],
   "source": [
    "#Let's calculate shot types from 2004-2005 season\n",
    "avg_shortest_range_in_2004 = df_04['3-10_Pct_Shot'].mean()\n",
    "avg_shortest_range_in_2004\n",
    "\n",
    "avg_mid_range_in_2004 = (df_04['10-16_Pct_Shot'].mean() + df_04['16-3P_Pct_Shot'].mean())\n",
    "avg_mid_range_in_2004\n",
    "\n",
    "avg_3p_in_2004 = df_04['3P_Pct_Shot'].mean()\n",
    "\n",
    "print(\n",
    "    f\"The Average Percentage of Shots that were short-range was: {avg_shortest_range_in_2004}\\n\"\n",
    "    f\"The Average Percentage of Shots that were mid-range was: {avg_mid_range_in_2004}\\n\"\n",
    "    f\"The Average Percentage of Shots that were Three Pointers was: {avg_3p_in_2004}\"\n",
    ")"
   ]
  },
  {
   "cell_type": "code",
   "execution_count": null,
   "id": "72b91955-2dfb-4c89-9d00-a9ea86f9745b",
   "metadata": {},
   "outputs": [],
   "source": [
    "# Now, let's caluclate averages for each type of shot for the 2023-2024 dataset\n",
    "avg_shortest_range_in_2024 = df_new['3-10_Pct_Shot'].mean()\n",
    "avg_shortest_range_in_2024\n",
    "\n",
    "avg_mid_range_in_2024 = (df_new['10-16_Pct_Shot'].mean() + df_new['16-3P_Pct_Shot'].mean())\n",
    "avg_mid_range_in_2024\n",
    "\n",
    "avg_3p_in_2024 = df_new['3P_Pct_Shot'].mean()\n",
    "\n",
    "print(\n",
    "    f\"The Average Percentage of Shots that were short-range was: {avg_shortest_range_in_2024}\\n\"\n",
    "    f\"The Average Percentage of Shots that were mid-range was: {avg_mid_range_in_2024}\\n\"\n",
    "    f\"The Average Percentage of Shots that were Three Pointers was: {avg_3p_in_2024}\"\n",
    ")"
   ]
  },
  {
   "cell_type": "code",
   "execution_count": null,
   "id": "1fc6b365-9a21-4c38-bcd1-05143dea4564",
   "metadata": {},
   "outputs": [],
   "source": [
    "#Let's do the same thing for our \"Pre-Curry\" (2008-09) Season.\n",
    "avg_shortest_range_in_2008 = df_pre_curry['3-10_Pct_Shot'].mean()\n",
    "avg_shortest_range_in_2008\n",
    "\n",
    "avg_mid_range_in_2008 = (df_pre_curry['10-16_Pct_Shot'].mean() + df_pre_curry['16-3P_Pct_Shot'].mean())\n",
    "avg_mid_range_in_2008\n",
    "\n",
    "avg_3p_in_2008 = df_pre_curry['3P_Pct_Shot'].mean()\n",
    "\n",
    "print(\n",
    "    f\"The Average Percentage of Shots that were short-range was: {avg_shortest_range_in_2008}\\n\"\n",
    "    f\"The Average Percentage of Shots that were mid-range was: {avg_mid_range_in_2008}\\n\"\n",
    "    f\"The Average Percentage of Shots that were Three Pointers was: {avg_3p_in_2008}\"\n",
    ")"
   ]
  },
  {
   "cell_type": "code",
   "execution_count": 61,
   "id": "7737749a-7682-418b-b1fd-deb35a8b44d7",
   "metadata": {},
   "outputs": [
    {
     "name": "stdout",
     "output_type": "stream",
     "text": [
      "The Average Percentage of Shots that were short-range was: 0.1679945652173913\n",
      "The Average Percentage of Shots that were mid-range was: 0.2942518115942029\n",
      "The Average Percentage of Shots that were Three Pointers was: 0.21586956521739128\n"
     ]
    }
   ],
   "source": [
    "#Let's do the same thing for the 2011-2012 season\n",
    "avg_shortest_range_in_2011 = df_11['3-10_Pct_Shot'].mean()\n",
    "avg_shortest_range_in_2011\n",
    "\n",
    "avg_mid_range_in_2011 = (df_11['10-16_Pct_Shot'].mean() + df_11['16-3P_Pct_Shot'].mean())\n",
    "avg_mid_range_in_2011\n",
    "\n",
    "avg_3p_in_2011 = df_11['3P_Pct_Shot'].mean()\n",
    "\n",
    "print(\n",
    "    f\"The Average Percentage of Shots that were short-range was: {avg_shortest_range_in_2011}\\n\"\n",
    "    f\"The Average Percentage of Shots that were mid-range was: {avg_mid_range_in_2011}\\n\"\n",
    "    f\"The Average Percentage of Shots that were Three Pointers was: {avg_3p_in_2011}\"\n",
    ")"
   ]
  },
  {
   "cell_type": "code",
   "execution_count": 63,
   "id": "7a3a7df2-8127-406c-862a-fb37c791d349",
   "metadata": {},
   "outputs": [
    {
     "name": "stdout",
     "output_type": "stream",
     "text": [
      "The Average Percentage of Shots that were short-range was: 0.15827162629757785\n",
      "The Average Percentage of Shots that were mid-range was: 0.23907266435986158\n",
      "The Average Percentage of Shots that were Three Pointers was: 0.2884930795847751\n"
     ]
    }
   ],
   "source": [
    "#Let's do the same thing for our \"Post-Curry\" (2015-16) Season.\n",
    "avg_shortest_range_in_2015 = df_post_curry['3-10_Pct_Shot'].mean()\n",
    "avg_shortest_range_in_2015\n",
    "\n",
    "avg_mid_range_in_2015 = (df_post_curry['10-16_Pct_Shot'].mean() + df_post_curry['16-3P_Pct_Shot'].mean())\n",
    "avg_mid_range_in_2015\n",
    "\n",
    "avg_3p_in_2015 = df_post_curry['3P_Pct_Shot'].mean()\n",
    "\n",
    "print(\n",
    "    f\"The Average Percentage of Shots that were short-range was: {avg_shortest_range_in_2015}\\n\"\n",
    "    f\"The Average Percentage of Shots that were mid-range was: {avg_mid_range_in_2015}\\n\"\n",
    "    f\"The Average Percentage of Shots that were Three Pointers was: {avg_3p_in_2015}\"\n",
    ")"
   ]
  },
  {
   "cell_type": "code",
   "execution_count": 45,
   "id": "eb111594-ffe9-4ba1-b030-71cab69e881c",
   "metadata": {},
   "outputs": [
    {
     "name": "stdout",
     "output_type": "stream",
     "text": [
      "The Average Percentage of Shots that were short-range was: 0.1808028368794326\n",
      "The Average Percentage of Shots that were mid-range was: 0.14470070921985817\n",
      "The Average Percentage of Shots that were Three Pointers was: 0.3910737588652482\n"
     ]
    }
   ],
   "source": [
    "# Let's do the same thing for the 2020-2021 Season.\n",
    "avg_shortest_range_in_2020 = df_20['3-10_Pct_Shot'].mean()\n",
    "avg_shortest_range_in_2020\n",
    "\n",
    "avg_mid_range_in_2020 = (df_20['10-16_Pct_Shot'].mean() + df_20['16-3P_Pct_Shot'].mean())\n",
    "avg_mid_range_in_2020\n",
    "\n",
    "avg_3p_in_2020 = df_20['3P_Pct_Shot'].mean()\n",
    "\n",
    "print(\n",
    "    f\"The Average Percentage of Shots that were short-range was: {avg_shortest_range_in_2020}\\n\"\n",
    "    f\"The Average Percentage of Shots that were mid-range was: {avg_mid_range_in_2020}\\n\"\n",
    "    f\"The Average Percentage of Shots that were Three Pointers was: {avg_3p_in_2020}\"\n",
    ")"
   ]
  },
  {
   "cell_type": "code",
   "execution_count": null,
   "id": "b1d8a612-770a-46e3-8ff4-633f7c58c712",
   "metadata": {},
   "outputs": [],
   "source": [
    "#Let's tabulate the results from the previous two cells\n",
    "\n",
    "prelim_comp = {\n",
    "    \"2000-2001 Season\":[avg_shortest_range_in_2000,avg_mid_range_in_2000,avg_3p_in_2000],\n",
    "    \"2023-2024 Season\":[avg_shortest_range_in_2024,avg_mid_range_in_2024,avg_3p_in_2024],\n",
    "    \"Difference\":[(avg_shortest_range_in_2024-avg_shortest_range_in_2000),\n",
    "                  (avg_mid_range_in_2024-avg_mid_range_in_2000),\n",
    "                  (avg_3p_in_2024-avg_3p_in_2000)]\n",
    "}\n",
    "table = pd.DataFrame(prelim_comp, index = ['Short-Range Shots','Mid-Range Shots','Three-Pointers'])\n",
    "print(table)\n",
    "\n",
    "# We can see that mid range shots (10 feet-3P range) dropped by over 25% and 3 pointers increased by over 25%\n",
    "# Let's get a little more specific and see if Chef Curry is responsible for this. Let's look at the change up to his rookie year (2009-10),\n",
    "# and then 5 years into his career (2014-15) "
   ]
  },
  {
   "cell_type": "code",
   "execution_count": null,
   "id": "3e6dad16-d324-416c-83aa-128e8534d3da",
   "metadata": {},
   "outputs": [],
   "source": [
    "deeper_comp = {\n",
    "    \"2000-2001 Season\":[avg_shortest_range_in_2000,avg_mid_range_in_2000,avg_3p_in_2000],\n",
    "    \"2008-2009 Season\":[avg_shortest_range_in_2008,avg_mid_range_in_2008,avg_3p_in_2008],\n",
    "    \"Difference_from_2000-2008\":[(avg_shortest_range_in_2008-avg_shortest_range_in_2000),\n",
    "                  (avg_mid_range_in_2008-avg_mid_range_in_2000),\n",
    "                  (avg_3p_in_2008-avg_3p_in_2000)],\n",
    "    \n",
    "    \"2015-2016 Season\":[avg_shortest_range_in_2015,avg_mid_range_in_2015,avg_3p_in_2015],\n",
    "    \"Difference_from_2008-2015\":[(avg_shortest_range_in_2015-avg_shortest_range_in_2008),\n",
    "                  (avg_mid_range_in_2015-avg_mid_range_in_2008),\n",
    "                  (avg_3p_in_2015-avg_3p_in_2008)],\n",
    "    \"2023-2024 Season\":[avg_shortest_range_in_2024,avg_mid_range_in_2024,avg_3p_in_2024],\n",
    "    \"Difference_from_2015-2024\":[(avg_shortest_range_in_2024-avg_shortest_range_in_2015),\n",
    "                  (avg_mid_range_in_2024-avg_mid_range_in_2015),\n",
    "                  (avg_3p_in_2024-avg_3p_in_2015)],\n",
    "    \n",
    "    \"Total_Difference\":[(avg_shortest_range_in_2024-avg_shortest_range_in_2000),\n",
    "                  (avg_mid_range_in_2024-avg_mid_range_in_2000),\n",
    "                  (avg_3p_in_2024-avg_3p_in_2000)]\n",
    "}\n",
    "table_2 = pd.DataFrame(deeper_comp, index = ['Short-Range Shots','Mid-Range Shots','Three-Pointers'])\n",
    "print(table_2)"
   ]
  },
  {
   "cell_type": "code",
   "execution_count": 85,
   "id": "4c7d59f6-af12-4e83-b337-84c043b7515a",
   "metadata": {},
   "outputs": [],
   "source": [
    "# In order to graph, we need to combine our data into a dictionary and convert that into a new dataframe. \n",
    "# This is necessary because all of our data came from separate tables. In the future, I will probably combine everything into \n",
    "# one large csv file and add a date column, and then import one large dataframe. \n",
    "\n",
    "seasons = [\"1996-97\",\"2000-2001\",\"2004-2005\",\"2008-2009\",\"2011-2012\",\"2015-2016\",\"2020-2021\",\"2023-2024\"] # Create list with all seasons (x-axis)\n",
    "\n",
    "full_data = {                           # Create dictionary mapping our values to variable names (y-axis)\n",
    "    \"Season\":seasons,\n",
    "    \"Short-Range\": [avg_shortest_range_in_1996, avg_shortest_range_in_2000, avg_shortest_range_in_2004,\n",
    "                    avg_shortest_range_in_2008, avg_shortest_range_in_2011, avg_shortest_range_in_2015,\n",
    "                    avg_shortest_range_in_2020, avg_shortest_range_in_2024],\n",
    "    \n",
    "    \"Mid-Range\":[avg_mid_range_in_1996, avg_mid_range_in_2000, avg_mid_range_in_2004,\n",
    "                 avg_mid_range_in_2008, avg_mid_range_in_2011, avg_mid_range_in_2015,\n",
    "                 avg_mid_range_in_2020, avg_mid_range_in_2024],\n",
    "    \n",
    "    \"3-Pointer\": [avg_3p_in_1996, avg_3p_in_2000, avg_3p_in_2004,\n",
    "                 avg_3p_in_2008, avg_3p_in_2011, avg_3p_in_2015, \n",
    "                 avg_3p_in_2020, avg_3p_in_2024]\n",
    "        \n",
    "}\n",
    "df = pd.DataFrame(full_data)\n",
    "df_graph = df.melt(id_vars = 'Season', var_name = 'Shot Type', value_name = 'Percentage of Total Shots')"
   ]
  },
  {
   "cell_type": "code",
   "execution_count": 99,
   "id": "9ac6c738-2043-4e62-a413-03d230770ac3",
   "metadata": {},
   "outputs": [
    {
     "data": {
      "image/png": "[encoded data removed]",
      "text/plain": [
       "<Figure size 1200x600 with 1 Axes>"
      ]
     },
     "metadata": {},
     "output_type": "display_data"
    }
   ],
   "source": [
    "plt.figure(figsize = (12,6))\n",
    "for i in df_graph[\"Shot Type\"].unique(): # assigns i to each of the three unique shot types\n",
    "    filtered_by_shot_type = df_graph[df_graph[\"Shot Type\"] == i] # filters to only include shot type in the current iteration\n",
    "    plt.plot(filtered_by_shot_type[\"Season\"], filtered_by_shot_type[\"Percentage of Total Shots\"], marker = \"o\", label = i)\n",
    "\n",
    "\n",
    "plt.title(\"Shot Distribution Over Seasons\", fontsize = 14)\n",
    "plt.xlabel(\"Season\", fontsize = 12)\n",
    "plt.ylabel(\"Percentage (%)\", fontsize = 12)\n",
    "plt.xticks(rotation = 45)  \n",
    "plt.legend(title = \"Shot Type\")\n",
    "plt.grid(alpha = 0.3)\n",
    "plt.tight_layout()\n",
    "\n",
    "# Show plot\n",
    "plt.show()"
   ]
  },
  {
   "cell_type": "code",
   "execution_count": 103,
   "id": "a7e841e4-373c-47ce-b524-b11754cee5d7",
   "metadata": {},
   "outputs": [
    {
     "name": "stdout",
     "output_type": "stream",
     "text": [
      "0.0636861045518248 0.1899728260869565\n"
     ]
    }
   ],
   "source": [
    "# Now let's calculate statistical impact of Curry's presence in the league\n",
    "\n",
    "pre_curry_change = avg_3p_in_2008 - avg_3p_in_2000 #excluding 1997 because it's an outlier\n",
    "post_curry_change = avg_3p_in_2024 - avg_3p_in_2011\n",
    "\n",
    "print(pre_curry_change, post_curry_change)"
   ]
  },
  {
   "cell_type": "code",
   "execution_count": 133,
   "id": "8ee2468f-0c22-4799-b511-5d43674ecd3d",
   "metadata": {},
   "outputs": [
    {
     "name": "stdout",
     "output_type": "stream",
     "text": [
      "The Average Percentage of Shots That Were 3 Pointers Before Curry Was: 0.18383899763927758\n",
      "The Average Percentage of Shots That Were 3 Pointers After Curry Is: 0.3253196987429406\n"
     ]
    }
   ],
   "source": [
    "# I'm going to run a t-test to check the impact Curry had on the league. Let's consider data before and after 2009.\n",
    "\n",
    "avg_3p_pre_curry = [avg_3p_in_1996,avg_3p_in_2000, avg_3p_in_2004,\n",
    "                 avg_3p_in_2008]\n",
    "\n",
    "avg_3p_post_curry = [avg_3p_in_2011, avg_3p_in_2015, avg_3p_in_2020,\n",
    "                 avg_3p_in_2024]\n",
    "\n",
    "print(\"The Average Percentage of Shots That Were 3 Pointers Before Curry Was:\", np.mean(avg_3p_pre_curry))\n",
    "\n",
    "print(\"The Average Percentage of Shots That Were 3 Pointers After Curry Is:\", np.mean(avg_3p_post_curry))\n"
   ]
  },
  {
   "cell_type": "code",
   "execution_count": 135,
   "id": "e92b1f0a-91c9-4ac0-b639-a29ac95abd3f",
   "metadata": {},
   "outputs": [
    {
     "name": "stdout",
     "output_type": "stream",
     "text": [
      "\n",
      "T-Test Results (Three Point Shot Prevalence Before and After Curry):\n",
      "T-statistic: -3.02\n",
      "P-value: 0.04588\n"
     ]
    }
   ],
   "source": [
    "# Perform a two-sample t-test\n",
    "t_stat, t_p_value = stats.ttest_ind(avg_3p_pre_curry, avg_3p_post_curry, equal_var=False)\n",
    "\n",
    "print(\"\\nT-Test Results (Three Point Shot Prevalence Before and After Curry):\")\n",
    "print(f\"T-statistic: {t_stat:.2f}\")\n",
    "print(f\"P-value: {t_p_value:.5f}\")\n",
    "\n",
    "# We can see there is a statistically significant difference in 3 point shot prevalence pre and post Curry."
   ]
  }
 ],
 "metadata": {
  "kernelspec": {
   "display_name": "Python 3 (ipykernel)",
   "language": "python",
   "name": "python3"
  },
  "language_info": {
   "codemirror_mode": {
    "name": "ipython",
    "version": 3
   },
   "file_extension": ".py",
   "mimetype": "text/x-python",
   "name": "python",
   "nbconvert_exporter": "python",
   "pygments_lexer": "ipython3",
   "version": "3.12.7"
  }
 },
 "nbformat": 4,
 "nbformat_minor": 5
}
